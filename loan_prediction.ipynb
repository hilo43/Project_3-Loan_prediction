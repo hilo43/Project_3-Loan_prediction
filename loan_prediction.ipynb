{
 "cells": [
  {
   "cell_type": "code",
   "execution_count": 1,
   "id": "5b091de1",
   "metadata": {},
   "outputs": [],
   "source": [
    "import pandas as pd\n",
    "import matplotlib.pyplot as plt\n",
    "%matplotlib inline\n",
    "import seaborn as sns"
   ]
  },
  {
   "cell_type": "code",
   "execution_count": 2,
   "id": "f831150d",
   "metadata": {},
   "outputs": [
    {
     "name": "stderr",
     "output_type": "stream",
     "text": [
      "c:\\Users\\oztur\\AppData\\Local\\Programs\\Python\\Python37\\lib\\site-packages\\IPython\\core\\interactiveshell.py:3553: DtypeWarning: Columns (16) have mixed types.Specify dtype option on import or set low_memory=False.\n",
      "  exec(code_obj, self.user_global_ns, self.user_ns)\n"
     ]
    }
   ],
   "source": [
    "\n",
    "\n",
    "df = pd.read_csv(\"LoansTrainingSet.csv\")"
   ]
  },
  {
   "cell_type": "markdown",
   "id": "8f53d05f",
   "metadata": {},
   "source": [
    "# Kredi Notu Mutlaka 300-800 arası olmalı"
   ]
  },
  {
   "cell_type": "code",
   "execution_count": 3,
   "id": "dd0fb14a",
   "metadata": {},
   "outputs": [
    {
     "name": "stdout",
     "output_type": "stream",
     "text": [
      "<class 'pandas.core.frame.DataFrame'>\n",
      "RangeIndex: 256984 entries, 0 to 256983\n",
      "Data columns (total 19 columns):\n",
      " #   Column                        Non-Null Count   Dtype  \n",
      "---  ------                        --------------   -----  \n",
      " 0   Loan ID                       256984 non-null  object \n",
      " 1   Customer ID                   256984 non-null  object \n",
      " 2   Loan Status                   256984 non-null  object \n",
      " 3   Current Loan Amount           256984 non-null  int64  \n",
      " 4   Term                          256984 non-null  object \n",
      " 5   Credit Score                  195308 non-null  float64\n",
      " 6   Years in current job          245508 non-null  object \n",
      " 7   Home Ownership                256984 non-null  object \n",
      " 8   Annual Income                 195308 non-null  float64\n",
      " 9   Purpose                       256984 non-null  object \n",
      " 10  Monthly Debt                  256984 non-null  object \n",
      " 11  Years of Credit History       256984 non-null  float64\n",
      " 12  Months since last delinquent  116601 non-null  float64\n",
      " 13  Number of Open Accounts       256984 non-null  int64  \n",
      " 14  Number of Credit Problems     256984 non-null  int64  \n",
      " 15  Current Credit Balance        256984 non-null  int64  \n",
      " 16  Maximum Open Credit           256984 non-null  object \n",
      " 17  Bankruptcies                  256455 non-null  float64\n",
      " 18  Tax Liens                     256961 non-null  float64\n",
      "dtypes: float64(6), int64(4), object(9)\n",
      "memory usage: 37.3+ MB\n"
     ]
    }
   ],
   "source": [
    "df.info()"
   ]
  },
  {
   "cell_type": "code",
   "execution_count": 4,
   "id": "7166719b",
   "metadata": {},
   "outputs": [
    {
     "data": {
      "text/plain": [
       "Loan ID                              0\n",
       "Customer ID                          0\n",
       "Loan Status                          0\n",
       "Current Loan Amount                  0\n",
       "Term                                 0\n",
       "Credit Score                     61676\n",
       "Years in current job             11476\n",
       "Home Ownership                       0\n",
       "Annual Income                    61676\n",
       "Purpose                              0\n",
       "Monthly Debt                         0\n",
       "Years of Credit History              0\n",
       "Months since last delinquent    140383\n",
       "Number of Open Accounts              0\n",
       "Number of Credit Problems            0\n",
       "Current Credit Balance               0\n",
       "Maximum Open Credit                  0\n",
       "Bankruptcies                       529\n",
       "Tax Liens                           23\n",
       "dtype: int64"
      ]
     },
     "execution_count": 4,
     "metadata": {},
     "output_type": "execute_result"
    }
   ],
   "source": [
    "df.isnull().sum()"
   ]
  },
  {
   "cell_type": "code",
   "execution_count": 5,
   "id": "24cc598a",
   "metadata": {},
   "outputs": [
    {
     "data": {
      "text/html": [
       "<div>\n",
       "<style scoped>\n",
       "    .dataframe tbody tr th:only-of-type {\n",
       "        vertical-align: middle;\n",
       "    }\n",
       "\n",
       "    .dataframe tbody tr th {\n",
       "        vertical-align: top;\n",
       "    }\n",
       "\n",
       "    .dataframe thead th {\n",
       "        text-align: right;\n",
       "    }\n",
       "</style>\n",
       "<table border=\"1\" class=\"dataframe\">\n",
       "  <thead>\n",
       "    <tr style=\"text-align: right;\">\n",
       "      <th></th>\n",
       "      <th>Loan ID</th>\n",
       "      <th>Customer ID</th>\n",
       "      <th>Loan Status</th>\n",
       "      <th>Current Loan Amount</th>\n",
       "      <th>Term</th>\n",
       "      <th>Credit Score</th>\n",
       "      <th>Years in current job</th>\n",
       "      <th>Home Ownership</th>\n",
       "      <th>Annual Income</th>\n",
       "      <th>Purpose</th>\n",
       "      <th>Monthly Debt</th>\n",
       "      <th>Years of Credit History</th>\n",
       "      <th>Months since last delinquent</th>\n",
       "      <th>Number of Open Accounts</th>\n",
       "      <th>Number of Credit Problems</th>\n",
       "      <th>Current Credit Balance</th>\n",
       "      <th>Maximum Open Credit</th>\n",
       "      <th>Bankruptcies</th>\n",
       "      <th>Tax Liens</th>\n",
       "    </tr>\n",
       "  </thead>\n",
       "  <tbody>\n",
       "    <tr>\n",
       "      <th>0</th>\n",
       "      <td>000025bb-5694-4cff-b17d-192b1a98ba44</td>\n",
       "      <td>5ebc8bb1-5eb9-4404-b11b-a6eebc401a19</td>\n",
       "      <td>Fully Paid</td>\n",
       "      <td>11520</td>\n",
       "      <td>Short Term</td>\n",
       "      <td>741.0</td>\n",
       "      <td>10+ years</td>\n",
       "      <td>Home Mortgage</td>\n",
       "      <td>33694.0</td>\n",
       "      <td>Debt Consolidation</td>\n",
       "      <td>$584.03</td>\n",
       "      <td>12.3</td>\n",
       "      <td>41.0</td>\n",
       "      <td>10</td>\n",
       "      <td>0</td>\n",
       "      <td>6760</td>\n",
       "      <td>16056</td>\n",
       "      <td>0.0</td>\n",
       "      <td>0.0</td>\n",
       "    </tr>\n",
       "    <tr>\n",
       "      <th>1</th>\n",
       "      <td>00002c49-3a29-4bd4-8f67-c8f8fbc1048c</td>\n",
       "      <td>927b388d-2e01-423f-a8dc-f7e42d668f46</td>\n",
       "      <td>Fully Paid</td>\n",
       "      <td>3441</td>\n",
       "      <td>Short Term</td>\n",
       "      <td>734.0</td>\n",
       "      <td>4 years</td>\n",
       "      <td>Home Mortgage</td>\n",
       "      <td>42269.0</td>\n",
       "      <td>other</td>\n",
       "      <td>$1,106.04</td>\n",
       "      <td>26.3</td>\n",
       "      <td>NaN</td>\n",
       "      <td>17</td>\n",
       "      <td>0</td>\n",
       "      <td>6262</td>\n",
       "      <td>19149</td>\n",
       "      <td>0.0</td>\n",
       "      <td>0.0</td>\n",
       "    </tr>\n",
       "    <tr>\n",
       "      <th>2</th>\n",
       "      <td>00002d89-27f3-409b-aa76-90834f359a65</td>\n",
       "      <td>defce609-c631-447d-aad6-1270615e89c4</td>\n",
       "      <td>Fully Paid</td>\n",
       "      <td>21029</td>\n",
       "      <td>Short Term</td>\n",
       "      <td>747.0</td>\n",
       "      <td>10+ years</td>\n",
       "      <td>Home Mortgage</td>\n",
       "      <td>90126.0</td>\n",
       "      <td>Debt Consolidation</td>\n",
       "      <td>$1,321.85</td>\n",
       "      <td>28.8</td>\n",
       "      <td>NaN</td>\n",
       "      <td>5</td>\n",
       "      <td>0</td>\n",
       "      <td>20967</td>\n",
       "      <td>28335</td>\n",
       "      <td>0.0</td>\n",
       "      <td>0.0</td>\n",
       "    </tr>\n",
       "    <tr>\n",
       "      <th>3</th>\n",
       "      <td>00005222-b4d8-45a4-ad8c-186057e24233</td>\n",
       "      <td>070bcecb-aae7-4485-a26a-e0403e7bb6c5</td>\n",
       "      <td>Fully Paid</td>\n",
       "      <td>18743</td>\n",
       "      <td>Short Term</td>\n",
       "      <td>747.0</td>\n",
       "      <td>10+ years</td>\n",
       "      <td>Own Home</td>\n",
       "      <td>38072.0</td>\n",
       "      <td>Debt Consolidation</td>\n",
       "      <td>$751.92</td>\n",
       "      <td>26.2</td>\n",
       "      <td>NaN</td>\n",
       "      <td>9</td>\n",
       "      <td>0</td>\n",
       "      <td>22529</td>\n",
       "      <td>43915</td>\n",
       "      <td>0.0</td>\n",
       "      <td>0.0</td>\n",
       "    </tr>\n",
       "    <tr>\n",
       "      <th>4</th>\n",
       "      <td>0000757f-a121-41ed-b17b-162e76647c1f</td>\n",
       "      <td>dde79588-12f0-4811-bab0-e2b07f633fcd</td>\n",
       "      <td>Fully Paid</td>\n",
       "      <td>11731</td>\n",
       "      <td>Short Term</td>\n",
       "      <td>746.0</td>\n",
       "      <td>4 years</td>\n",
       "      <td>Rent</td>\n",
       "      <td>50025.0</td>\n",
       "      <td>Debt Consolidation</td>\n",
       "      <td>$355.18</td>\n",
       "      <td>11.5</td>\n",
       "      <td>NaN</td>\n",
       "      <td>12</td>\n",
       "      <td>0</td>\n",
       "      <td>17391</td>\n",
       "      <td>37081</td>\n",
       "      <td>0.0</td>\n",
       "      <td>0.0</td>\n",
       "    </tr>\n",
       "  </tbody>\n",
       "</table>\n",
       "</div>"
      ],
      "text/plain": [
       "                                Loan ID                           Customer ID  \\\n",
       "0  000025bb-5694-4cff-b17d-192b1a98ba44  5ebc8bb1-5eb9-4404-b11b-a6eebc401a19   \n",
       "1  00002c49-3a29-4bd4-8f67-c8f8fbc1048c  927b388d-2e01-423f-a8dc-f7e42d668f46   \n",
       "2  00002d89-27f3-409b-aa76-90834f359a65  defce609-c631-447d-aad6-1270615e89c4   \n",
       "3  00005222-b4d8-45a4-ad8c-186057e24233  070bcecb-aae7-4485-a26a-e0403e7bb6c5   \n",
       "4  0000757f-a121-41ed-b17b-162e76647c1f  dde79588-12f0-4811-bab0-e2b07f633fcd   \n",
       "\n",
       "  Loan Status  Current Loan Amount        Term  Credit Score  \\\n",
       "0  Fully Paid                11520  Short Term         741.0   \n",
       "1  Fully Paid                 3441  Short Term         734.0   \n",
       "2  Fully Paid                21029  Short Term         747.0   \n",
       "3  Fully Paid                18743  Short Term         747.0   \n",
       "4  Fully Paid                11731  Short Term         746.0   \n",
       "\n",
       "  Years in current job Home Ownership  Annual Income             Purpose  \\\n",
       "0            10+ years  Home Mortgage        33694.0  Debt Consolidation   \n",
       "1              4 years  Home Mortgage        42269.0               other   \n",
       "2            10+ years  Home Mortgage        90126.0  Debt Consolidation   \n",
       "3            10+ years       Own Home        38072.0  Debt Consolidation   \n",
       "4              4 years           Rent        50025.0  Debt Consolidation   \n",
       "\n",
       "  Monthly Debt  Years of Credit History  Months since last delinquent  \\\n",
       "0      $584.03                     12.3                          41.0   \n",
       "1   $1,106.04                      26.3                           NaN   \n",
       "2   $1,321.85                      28.8                           NaN   \n",
       "3      $751.92                     26.2                           NaN   \n",
       "4      $355.18                     11.5                           NaN   \n",
       "\n",
       "   Number of Open Accounts  Number of Credit Problems  Current Credit Balance  \\\n",
       "0                       10                          0                    6760   \n",
       "1                       17                          0                    6262   \n",
       "2                        5                          0                   20967   \n",
       "3                        9                          0                   22529   \n",
       "4                       12                          0                   17391   \n",
       "\n",
       "  Maximum Open Credit  Bankruptcies  Tax Liens  \n",
       "0               16056           0.0        0.0  \n",
       "1               19149           0.0        0.0  \n",
       "2               28335           0.0        0.0  \n",
       "3               43915           0.0        0.0  \n",
       "4               37081           0.0        0.0  "
      ]
     },
     "execution_count": 5,
     "metadata": {},
     "output_type": "execute_result"
    }
   ],
   "source": [
    "df.head()"
   ]
  },
  {
   "cell_type": "code",
   "execution_count": 6,
   "id": "6b1ac304",
   "metadata": {},
   "outputs": [],
   "source": [
    "import seaborn as sns\n"
   ]
  },
  {
   "cell_type": "code",
   "execution_count": 7,
   "id": "83648172",
   "metadata": {},
   "outputs": [
    {
     "data": {
      "text/plain": [
       "<AxesSubplot:xlabel='Credit Score', ylabel='Current Loan Amount'>"
      ]
     },
     "execution_count": 7,
     "metadata": {},
     "output_type": "execute_result"
    },
    {
     "data": {
      "image/png": "[encoded data removed]",
      "text/plain": [
       "<Figure size 432x288 with 1 Axes>"
      ]
     },
     "metadata": {
      "needs_background": "light"
     },
     "output_type": "display_data"
    }
   ],
   "source": [
    "sns.scatterplot(x=\"Credit Score\" , y = \"Current Loan Amount\" , data = df)"
   ]
  },
  {
   "cell_type": "markdown",
   "id": "8196a362",
   "metadata": {},
   "source": []
  },
  {
   "cell_type": "markdown",
   "id": "01cc96a1",
   "metadata": {},
   "source": [
    "# Boş Verileri Doldurma"
   ]
  },
  {
   "cell_type": "code",
   "execution_count": 8,
   "id": "0903a9a6",
   "metadata": {},
   "outputs": [
    {
     "data": {
      "text/plain": [
       "747.0     5669\n",
       "740.0     5537\n",
       "741.0     5499\n",
       "746.0     5486\n",
       "742.0     5219\n",
       "          ... \n",
       "6070.0       3\n",
       "5980.0       3\n",
       "5910.0       3\n",
       "5930.0       2\n",
       "5860.0       1\n",
       "Name: Credit Score, Length: 334, dtype: int64"
      ]
     },
     "execution_count": 8,
     "metadata": {},
     "output_type": "execute_result"
    }
   ],
   "source": [
    "df[\"Credit Score\"].value_counts()"
   ]
  },
  {
   "cell_type": "code",
   "execution_count": 9,
   "id": "4d87dd84",
   "metadata": {},
   "outputs": [
    {
     "data": {
      "text/plain": [
       "<seaborn.axisgrid.FacetGrid at 0x192829a7b48>"
      ]
     },
     "execution_count": 9,
     "metadata": {},
     "output_type": "execute_result"
    },
    {
     "data": {
      "image/png": "[encoded data removed]",
      "text/plain": [
       "<Figure size 360x360 with 1 Axes>"
      ]
     },
     "metadata": {
      "needs_background": "light"
     },
     "output_type": "display_data"
    }
   ],
   "source": [
    "sns.displot(df[\"Credit Score\"],bins=15,kde=True)\n",
    "\n",
    "#kredi skoru 7000'in üzerinde olanlar var"
   ]
  },
  {
   "cell_type": "markdown",
   "id": "d42beff3",
   "metadata": {},
   "source": []
  },
  {
   "cell_type": "code",
   "execution_count": 10,
   "id": "45501212",
   "metadata": {},
   "outputs": [],
   "source": [
    "df[\"Credit Score\"] = df[\"Credit Score\"].mask( df[\"Credit Score\"] > 800, df[\"Credit Score\"]/ 10)\n"
   ]
  },
  {
   "cell_type": "code",
   "execution_count": 11,
   "id": "7ae41d64",
   "metadata": {},
   "outputs": [],
   "source": [
    "#df_temp[\"Credit Score\"].value_counts()\n",
    "#hepsi 1000'den büyük olduğunu doğruladık"
   ]
  },
  {
   "cell_type": "code",
   "execution_count": 12,
   "id": "f65e00bd",
   "metadata": {},
   "outputs": [],
   "source": [
    "#df_temp[\"Credit Score\"] = df_temp[\"Credit Score\"]/10\n",
    "#df_temp[\"Credit Score\"].value_counts()"
   ]
  },
  {
   "cell_type": "code",
   "execution_count": 13,
   "id": "0b9bff06",
   "metadata": {},
   "outputs": [],
   "source": [
    "#df.append(df_temp)\n",
    "#df.shape"
   ]
  },
  {
   "cell_type": "code",
   "execution_count": 14,
   "id": "03d75214",
   "metadata": {},
   "outputs": [
    {
     "data": {
      "text/plain": [
       "740.0    5877\n",
       "747.0    5862\n",
       "741.0    5843\n",
       "746.0    5736\n",
       "742.0    5531\n",
       "         ... \n",
       "590.0      22\n",
       "589.0      22\n",
       "585.0      21\n",
       "593.0      19\n",
       "591.0      18\n",
       "Name: Credit Score, Length: 167, dtype: int64"
      ]
     },
     "execution_count": 14,
     "metadata": {},
     "output_type": "execute_result"
    }
   ],
   "source": [
    "df[\"Credit Score\"].value_counts()"
   ]
  },
  {
   "cell_type": "code",
   "execution_count": 15,
   "id": "388c0114",
   "metadata": {},
   "outputs": [
    {
     "data": {
      "text/plain": [
       "<seaborn.axisgrid.FacetGrid at 0x192fa8e8888>"
      ]
     },
     "execution_count": 15,
     "metadata": {},
     "output_type": "execute_result"
    },
    {
     "data": {
      "image/png": "[encoded data removed]",
      "text/plain": [
       "<Figure size 360x360 with 1 Axes>"
      ]
     },
     "metadata": {
      "needs_background": "light"
     },
     "output_type": "display_data"
    }
   ],
   "source": [
    "sns.displot(df[\"Credit Score\"],bins=15,kde=True)\n",
    "#300 ile 800 arasında"
   ]
  },
  {
   "cell_type": "code",
   "execution_count": 16,
   "id": "01fec6db",
   "metadata": {},
   "outputs": [],
   "source": [
    "df[\"Credit Score\"].fillna(df[\"Credit Score\"].mean() , inplace= True)"
   ]
  },
  {
   "cell_type": "code",
   "execution_count": 17,
   "id": "5f5d52d4",
   "metadata": {},
   "outputs": [
    {
     "data": {
      "text/plain": [
       "10+ years    78896\n",
       "2 years      23462\n",
       "< 1 year     21012\n",
       "3 years      20659\n",
       "5 years      17864\n",
       "1 year       16746\n",
       "4 years      16166\n",
       "6 years      14597\n",
       "7 years      13968\n",
       "8 years      12206\n",
       "9 years       9932\n",
       "Name: Years in current job, dtype: int64"
      ]
     },
     "execution_count": 17,
     "metadata": {},
     "output_type": "execute_result"
    }
   ],
   "source": [
    "df[\"Years in current job\"].value_counts()"
   ]
  },
  {
   "cell_type": "code",
   "execution_count": 18,
   "id": "ff26cf0e",
   "metadata": {},
   "outputs": [],
   "source": [
    "df[\"Years in current job\"].fillna(df[\"Years in current job\"].mode()[0] , inplace = True)"
   ]
  },
  {
   "cell_type": "code",
   "execution_count": 19,
   "id": "fb6769f7",
   "metadata": {},
   "outputs": [
    {
     "data": {
      "text/plain": [
       "60684.0     31\n",
       "49630.0     30\n",
       "61188.0     30\n",
       "59646.0     30\n",
       "61134.0     28\n",
       "            ..\n",
       "65276.0      1\n",
       "254462.0     1\n",
       "126888.0     1\n",
       "98337.0      1\n",
       "30854.0      1\n",
       "Name: Annual Income, Length: 60558, dtype: int64"
      ]
     },
     "execution_count": 19,
     "metadata": {},
     "output_type": "execute_result"
    }
   ],
   "source": [
    "df[\"Annual Income\"].value_counts()"
   ]
  },
  {
   "cell_type": "code",
   "execution_count": 20,
   "id": "6eff0a68",
   "metadata": {},
   "outputs": [
    {
     "name": "stderr",
     "output_type": "stream",
     "text": [
      "c:\\Users\\oztur\\AppData\\Local\\Programs\\Python\\Python37\\lib\\site-packages\\seaborn\\_decorators.py:43: FutureWarning: Pass the following variables as keyword args: x, y. From version 0.12, the only valid positional argument will be `data`, and passing other arguments without an explicit keyword will result in an error or misinterpretation.\n",
      "  FutureWarning\n"
     ]
    },
    {
     "data": {
      "text/plain": [
       "<AxesSubplot:xlabel='Annual Income', ylabel='Annual Income'>"
      ]
     },
     "execution_count": 20,
     "metadata": {},
     "output_type": "execute_result"
    },
    {
     "data": {
      "image/png": "[encoded data removed]",
      "text/plain": [
       "<Figure size 432x288 with 1 Axes>"
      ]
     },
     "metadata": {
      "needs_background": "light"
     },
     "output_type": "display_data"
    }
   ],
   "source": [
    "y = df[\"Annual Income\"].value_counts()\n",
    "x = df[\"Annual Income\"]\n",
    "sns.scatterplot(x, y, data=df)"
   ]
  },
  {
   "cell_type": "code",
   "execution_count": 21,
   "id": "dfdad0b0",
   "metadata": {},
   "outputs": [
    {
     "data": {
      "text/plain": [
       "<AxesSubplot:>"
      ]
     },
     "execution_count": 21,
     "metadata": {},
     "output_type": "execute_result"
    },
    {
     "data": {
      "image/png": "[encoded data removed]",
      "text/plain": [
       "<Figure size 432x288 with 1 Axes>"
      ]
     },
     "metadata": {
      "needs_background": "light"
     },
     "output_type": "display_data"
    }
   ],
   "source": [
    "sns.barplot(data = df[[\"Annual Income\"]])\n",
    "#anlamsız veri görselleştirmesi"
   ]
  },
  {
   "cell_type": "code",
   "execution_count": 25,
   "id": "537c2c21",
   "metadata": {},
   "outputs": [],
   "source": [
    "df[\"Annual Income\"].fillna(df[\"Annual Income\"].mean() , inplace = True)"
   ]
  },
  {
   "cell_type": "code",
   "execution_count": 26,
   "id": "041ebcf8",
   "metadata": {},
   "outputs": [
    {
     "data": {
      "text/plain": [
       "0"
      ]
     },
     "execution_count": 26,
     "metadata": {},
     "output_type": "execute_result"
    }
   ],
   "source": [
    "df[\"Annual Income\"].isnull().sum()"
   ]
  },
  {
   "cell_type": "code",
   "execution_count": 27,
   "id": "320bb6fc",
   "metadata": {},
   "outputs": [],
   "source": [
    "del df[\"Months since last delinquent\"]"
   ]
  },
  {
   "cell_type": "code",
   "execution_count": 28,
   "id": "08378aa4",
   "metadata": {},
   "outputs": [
    {
     "data": {
      "text/plain": [
       "0.0    229661\n",
       "1.0     25605\n",
       "2.0       957\n",
       "3.0       180\n",
       "4.0        33\n",
       "5.0        15\n",
       "6.0         3\n",
       "7.0         1\n",
       "Name: Bankruptcies, dtype: int64"
      ]
     },
     "execution_count": 28,
     "metadata": {},
     "output_type": "execute_result"
    }
   ],
   "source": [
    "\n",
    "df[\"Bankruptcies\"].value_counts()                       "
   ]
  },
  {
   "cell_type": "code",
   "execution_count": 29,
   "id": "b15999c2",
   "metadata": {},
   "outputs": [],
   "source": [
    "df[\"Bankruptcies\"] = df[\"Bankruptcies\"].fillna(\"0\")"
   ]
  },
  {
   "cell_type": "code",
   "execution_count": 30,
   "id": "5152c4a5",
   "metadata": {},
   "outputs": [
    {
     "data": {
      "text/plain": [
       "0.0     252322\n",
       "1.0       3276\n",
       "2.0        872\n",
       "3.0        247\n",
       "4.0        124\n",
       "5.0         61\n",
       "6.0         30\n",
       "9.0         10\n",
       "8.0          8\n",
       "7.0          6\n",
       "10.0         3\n",
       "11.0         2\n",
       "Name: Tax Liens, dtype: int64"
      ]
     },
     "execution_count": 30,
     "metadata": {},
     "output_type": "execute_result"
    }
   ],
   "source": [
    "df[\"Tax Liens\"].value_counts()                       "
   ]
  },
  {
   "cell_type": "code",
   "execution_count": 31,
   "id": "a11e7963",
   "metadata": {},
   "outputs": [],
   "source": [
    "df[\"Tax Liens\"] = df[\"Tax Liens\"].fillna(\"0\")"
   ]
  },
  {
   "cell_type": "code",
   "execution_count": 32,
   "id": "867dddc8",
   "metadata": {},
   "outputs": [
    {
     "data": {
      "text/plain": [
       "Loan ID                      0\n",
       "Customer ID                  0\n",
       "Loan Status                  0\n",
       "Current Loan Amount          0\n",
       "Term                         0\n",
       "Credit Score                 0\n",
       "Years in current job         0\n",
       "Home Ownership               0\n",
       "Annual Income                0\n",
       "Purpose                      0\n",
       "Monthly Debt                 0\n",
       "Years of Credit History      0\n",
       "Number of Open Accounts      0\n",
       "Number of Credit Problems    0\n",
       "Current Credit Balance       0\n",
       "Maximum Open Credit          0\n",
       "Bankruptcies                 0\n",
       "Tax Liens                    0\n",
       "dtype: int64"
      ]
     },
     "execution_count": 32,
     "metadata": {},
     "output_type": "execute_result"
    }
   ],
   "source": [
    "df.isnull().sum()"
   ]
  },
  {
   "cell_type": "code",
   "execution_count": 33,
   "id": "02837736",
   "metadata": {},
   "outputs": [
    {
     "name": "stdout",
     "output_type": "stream",
     "text": [
      "<class 'pandas.core.frame.DataFrame'>\n",
      "RangeIndex: 256984 entries, 0 to 256983\n",
      "Data columns (total 18 columns):\n",
      " #   Column                     Non-Null Count   Dtype  \n",
      "---  ------                     --------------   -----  \n",
      " 0   Loan ID                    256984 non-null  object \n",
      " 1   Customer ID                256984 non-null  object \n",
      " 2   Loan Status                256984 non-null  object \n",
      " 3   Current Loan Amount        256984 non-null  int64  \n",
      " 4   Term                       256984 non-null  object \n",
      " 5   Credit Score               256984 non-null  float64\n",
      " 6   Years in current job       256984 non-null  object \n",
      " 7   Home Ownership             256984 non-null  object \n",
      " 8   Annual Income              256984 non-null  float64\n",
      " 9   Purpose                    256984 non-null  object \n",
      " 10  Monthly Debt               256984 non-null  object \n",
      " 11  Years of Credit History    256984 non-null  float64\n",
      " 12  Number of Open Accounts    256984 non-null  int64  \n",
      " 13  Number of Credit Problems  256984 non-null  int64  \n",
      " 14  Current Credit Balance     256984 non-null  int64  \n",
      " 15  Maximum Open Credit        256984 non-null  object \n",
      " 16  Bankruptcies               256984 non-null  object \n",
      " 17  Tax Liens                  256984 non-null  object \n",
      "dtypes: float64(3), int64(4), object(11)\n",
      "memory usage: 35.3+ MB\n"
     ]
    }
   ],
   "source": [
    "df.info()"
   ]
  },
  {
   "cell_type": "code",
   "execution_count": 34,
   "id": "35b6b24a",
   "metadata": {},
   "outputs": [
    {
     "data": {
      "text/html": [
       "<div>\n",
       "<style scoped>\n",
       "    .dataframe tbody tr th:only-of-type {\n",
       "        vertical-align: middle;\n",
       "    }\n",
       "\n",
       "    .dataframe tbody tr th {\n",
       "        vertical-align: top;\n",
       "    }\n",
       "\n",
       "    .dataframe thead th {\n",
       "        text-align: right;\n",
       "    }\n",
       "</style>\n",
       "<table border=\"1\" class=\"dataframe\">\n",
       "  <thead>\n",
       "    <tr style=\"text-align: right;\">\n",
       "      <th></th>\n",
       "      <th>Loan ID</th>\n",
       "      <th>Customer ID</th>\n",
       "      <th>Loan Status</th>\n",
       "      <th>Current Loan Amount</th>\n",
       "      <th>Term</th>\n",
       "      <th>Credit Score</th>\n",
       "      <th>Years in current job</th>\n",
       "      <th>Home Ownership</th>\n",
       "      <th>Annual Income</th>\n",
       "      <th>Purpose</th>\n",
       "      <th>Monthly Debt</th>\n",
       "      <th>Years of Credit History</th>\n",
       "      <th>Number of Open Accounts</th>\n",
       "      <th>Number of Credit Problems</th>\n",
       "      <th>Current Credit Balance</th>\n",
       "      <th>Maximum Open Credit</th>\n",
       "      <th>Bankruptcies</th>\n",
       "      <th>Tax Liens</th>\n",
       "    </tr>\n",
       "  </thead>\n",
       "  <tbody>\n",
       "    <tr>\n",
       "      <th>0</th>\n",
       "      <td>000025bb-5694-4cff-b17d-192b1a98ba44</td>\n",
       "      <td>5ebc8bb1-5eb9-4404-b11b-a6eebc401a19</td>\n",
       "      <td>Fully Paid</td>\n",
       "      <td>11520</td>\n",
       "      <td>Short Term</td>\n",
       "      <td>741.0</td>\n",
       "      <td>10+ years</td>\n",
       "      <td>Home Mortgage</td>\n",
       "      <td>33694.0</td>\n",
       "      <td>Debt Consolidation</td>\n",
       "      <td>$584.03</td>\n",
       "      <td>12.3</td>\n",
       "      <td>10</td>\n",
       "      <td>0</td>\n",
       "      <td>6760</td>\n",
       "      <td>16056</td>\n",
       "      <td>0.0</td>\n",
       "      <td>0.0</td>\n",
       "    </tr>\n",
       "    <tr>\n",
       "      <th>1</th>\n",
       "      <td>00002c49-3a29-4bd4-8f67-c8f8fbc1048c</td>\n",
       "      <td>927b388d-2e01-423f-a8dc-f7e42d668f46</td>\n",
       "      <td>Fully Paid</td>\n",
       "      <td>3441</td>\n",
       "      <td>Short Term</td>\n",
       "      <td>734.0</td>\n",
       "      <td>4 years</td>\n",
       "      <td>Home Mortgage</td>\n",
       "      <td>42269.0</td>\n",
       "      <td>other</td>\n",
       "      <td>$1,106.04</td>\n",
       "      <td>26.3</td>\n",
       "      <td>17</td>\n",
       "      <td>0</td>\n",
       "      <td>6262</td>\n",
       "      <td>19149</td>\n",
       "      <td>0.0</td>\n",
       "      <td>0.0</td>\n",
       "    </tr>\n",
       "    <tr>\n",
       "      <th>2</th>\n",
       "      <td>00002d89-27f3-409b-aa76-90834f359a65</td>\n",
       "      <td>defce609-c631-447d-aad6-1270615e89c4</td>\n",
       "      <td>Fully Paid</td>\n",
       "      <td>21029</td>\n",
       "      <td>Short Term</td>\n",
       "      <td>747.0</td>\n",
       "      <td>10+ years</td>\n",
       "      <td>Home Mortgage</td>\n",
       "      <td>90126.0</td>\n",
       "      <td>Debt Consolidation</td>\n",
       "      <td>$1,321.85</td>\n",
       "      <td>28.8</td>\n",
       "      <td>5</td>\n",
       "      <td>0</td>\n",
       "      <td>20967</td>\n",
       "      <td>28335</td>\n",
       "      <td>0.0</td>\n",
       "      <td>0.0</td>\n",
       "    </tr>\n",
       "    <tr>\n",
       "      <th>3</th>\n",
       "      <td>00005222-b4d8-45a4-ad8c-186057e24233</td>\n",
       "      <td>070bcecb-aae7-4485-a26a-e0403e7bb6c5</td>\n",
       "      <td>Fully Paid</td>\n",
       "      <td>18743</td>\n",
       "      <td>Short Term</td>\n",
       "      <td>747.0</td>\n",
       "      <td>10+ years</td>\n",
       "      <td>Own Home</td>\n",
       "      <td>38072.0</td>\n",
       "      <td>Debt Consolidation</td>\n",
       "      <td>$751.92</td>\n",
       "      <td>26.2</td>\n",
       "      <td>9</td>\n",
       "      <td>0</td>\n",
       "      <td>22529</td>\n",
       "      <td>43915</td>\n",
       "      <td>0.0</td>\n",
       "      <td>0.0</td>\n",
       "    </tr>\n",
       "    <tr>\n",
       "      <th>4</th>\n",
       "      <td>0000757f-a121-41ed-b17b-162e76647c1f</td>\n",
       "      <td>dde79588-12f0-4811-bab0-e2b07f633fcd</td>\n",
       "      <td>Fully Paid</td>\n",
       "      <td>11731</td>\n",
       "      <td>Short Term</td>\n",
       "      <td>746.0</td>\n",
       "      <td>4 years</td>\n",
       "      <td>Rent</td>\n",
       "      <td>50025.0</td>\n",
       "      <td>Debt Consolidation</td>\n",
       "      <td>$355.18</td>\n",
       "      <td>11.5</td>\n",
       "      <td>12</td>\n",
       "      <td>0</td>\n",
       "      <td>17391</td>\n",
       "      <td>37081</td>\n",
       "      <td>0.0</td>\n",
       "      <td>0.0</td>\n",
       "    </tr>\n",
       "  </tbody>\n",
       "</table>\n",
       "</div>"
      ],
      "text/plain": [
       "                                Loan ID                           Customer ID  \\\n",
       "0  000025bb-5694-4cff-b17d-192b1a98ba44  5ebc8bb1-5eb9-4404-b11b-a6eebc401a19   \n",
       "1  00002c49-3a29-4bd4-8f67-c8f8fbc1048c  927b388d-2e01-423f-a8dc-f7e42d668f46   \n",
       "2  00002d89-27f3-409b-aa76-90834f359a65  defce609-c631-447d-aad6-1270615e89c4   \n",
       "3  00005222-b4d8-45a4-ad8c-186057e24233  070bcecb-aae7-4485-a26a-e0403e7bb6c5   \n",
       "4  0000757f-a121-41ed-b17b-162e76647c1f  dde79588-12f0-4811-bab0-e2b07f633fcd   \n",
       "\n",
       "  Loan Status  Current Loan Amount        Term  Credit Score  \\\n",
       "0  Fully Paid                11520  Short Term         741.0   \n",
       "1  Fully Paid                 3441  Short Term         734.0   \n",
       "2  Fully Paid                21029  Short Term         747.0   \n",
       "3  Fully Paid                18743  Short Term         747.0   \n",
       "4  Fully Paid                11731  Short Term         746.0   \n",
       "\n",
       "  Years in current job Home Ownership  Annual Income             Purpose  \\\n",
       "0            10+ years  Home Mortgage        33694.0  Debt Consolidation   \n",
       "1              4 years  Home Mortgage        42269.0               other   \n",
       "2            10+ years  Home Mortgage        90126.0  Debt Consolidation   \n",
       "3            10+ years       Own Home        38072.0  Debt Consolidation   \n",
       "4              4 years           Rent        50025.0  Debt Consolidation   \n",
       "\n",
       "  Monthly Debt  Years of Credit History  Number of Open Accounts  \\\n",
       "0      $584.03                     12.3                       10   \n",
       "1   $1,106.04                      26.3                       17   \n",
       "2   $1,321.85                      28.8                        5   \n",
       "3      $751.92                     26.2                        9   \n",
       "4      $355.18                     11.5                       12   \n",
       "\n",
       "   Number of Credit Problems  Current Credit Balance Maximum Open Credit  \\\n",
       "0                          0                    6760               16056   \n",
       "1                          0                    6262               19149   \n",
       "2                          0                   20967               28335   \n",
       "3                          0                   22529               43915   \n",
       "4                          0                   17391               37081   \n",
       "\n",
       "  Bankruptcies Tax Liens  \n",
       "0          0.0       0.0  \n",
       "1          0.0       0.0  \n",
       "2          0.0       0.0  \n",
       "3          0.0       0.0  \n",
       "4          0.0       0.0  "
      ]
     },
     "execution_count": 34,
     "metadata": {},
     "output_type": "execute_result"
    }
   ],
   "source": [
    "\n",
    "df.head()"
   ]
  },
  {
   "cell_type": "markdown",
   "id": "03b44ca6",
   "metadata": {},
   "source": [
    "# Feature Engineering"
   ]
  },
  {
   "cell_type": "code",
   "execution_count": 35,
   "id": "06b5407a",
   "metadata": {},
   "outputs": [],
   "source": [
    "df_original = df\n",
    "\n",
    "#model kurduktan sonra sileceğimiz sütunlar lazım olabilir"
   ]
  },
  {
   "cell_type": "code",
   "execution_count": 36,
   "id": "37669e71",
   "metadata": {},
   "outputs": [
    {
     "data": {
      "text/plain": [
       "9     24412\n",
       "10    23306\n",
       "8     23140\n",
       "11    21577\n",
       "7     20851\n",
       "12    19056\n",
       "6     17454\n",
       "13    15987\n",
       "14    13649\n",
       "5     12232\n",
       "15    10833\n",
       "16     8982\n",
       "17     7258\n",
       "4      7225\n",
       "18     5801\n",
       "19     4706\n",
       "20     3612\n",
       "3      3362\n",
       "21     2815\n",
       "22     2207\n",
       "23     1725\n",
       "24     1371\n",
       "2      1104\n",
       "25     1011\n",
       "26      746\n",
       "27      580\n",
       "28      404\n",
       "29      303\n",
       "30      236\n",
       "31      207\n",
       "32      181\n",
       "33      113\n",
       "34      104\n",
       "35       79\n",
       "36       61\n",
       "37       58\n",
       "38       41\n",
       "1        37\n",
       "39       33\n",
       "40       26\n",
       "41       24\n",
       "42       14\n",
       "45        9\n",
       "43        9\n",
       "47        7\n",
       "0         5\n",
       "44        5\n",
       "76        4\n",
       "50        3\n",
       "53        3\n",
       "46        3\n",
       "48        3\n",
       "55        2\n",
       "52        2\n",
       "58        2\n",
       "56        1\n",
       "49        1\n",
       "51        1\n",
       "54        1\n",
       "Name: Number of Open Accounts, dtype: int64"
      ]
     },
     "execution_count": 36,
     "metadata": {},
     "output_type": "execute_result"
    }
   ],
   "source": [
    "\n",
    "df[\"Number of Open Accounts\"].value_counts()\n",
    "#astype yaparak deneyecem"
   ]
  },
  {
   "cell_type": "code",
   "execution_count": 37,
   "id": "30180982",
   "metadata": {},
   "outputs": [],
   "source": [
    "#df[\"Number of Open Accounts\"]=df[\"Number of Open Accounts\"].astype(\"category\")\n",
    "# banka hesabı sayısı ne kadar olduğu önemli değil bence"
   ]
  },
  {
   "cell_type": "code",
   "execution_count": 38,
   "id": "8dcc91e2",
   "metadata": {},
   "outputs": [],
   "source": [
    "df.drop([\"Loan ID\",\"Customer ID\" , \"Number of Open Accounts\"] , axis = 1 , inplace= True)  "
   ]
  },
  {
   "cell_type": "code",
   "execution_count": 39,
   "id": "597e6b35",
   "metadata": {},
   "outputs": [
    {
     "data": {
      "text/plain": [
       "Fully Paid     176191\n",
       "Charged Off     80793\n",
       "Name: Loan Status, dtype: int64"
      ]
     },
     "execution_count": 39,
     "metadata": {},
     "output_type": "execute_result"
    }
   ],
   "source": [
    "df[\"Loan Status\"].value_counts()"
   ]
  },
  {
   "cell_type": "markdown",
   "id": "4ca3aa4d",
   "metadata": {},
   "source": []
  },
  {
   "cell_type": "code",
   "execution_count": 40,
   "id": "3c2b9709",
   "metadata": {},
   "outputs": [
    {
     "data": {
      "text/plain": [
       "Short Term    192632\n",
       "Long Term      64352\n",
       "Name: Term, dtype: int64"
      ]
     },
     "execution_count": 40,
     "metadata": {},
     "output_type": "execute_result"
    }
   ],
   "source": [
    "df[\"Term\"].value_counts()"
   ]
  },
  {
   "cell_type": "code",
   "execution_count": 41,
   "id": "741a9f71",
   "metadata": {},
   "outputs": [
    {
     "data": {
      "text/plain": [
       "10+ years    90372\n",
       "2 years      23462\n",
       "< 1 year     21012\n",
       "3 years      20659\n",
       "5 years      17864\n",
       "1 year       16746\n",
       "4 years      16166\n",
       "6 years      14597\n",
       "7 years      13968\n",
       "8 years      12206\n",
       "9 years       9932\n",
       "Name: Years in current job, dtype: int64"
      ]
     },
     "execution_count": 41,
     "metadata": {},
     "output_type": "execute_result"
    }
   ],
   "source": [
    "df[\"Years in current job\"].value_counts()\n",
    "\n",
    "#bu değeri floata çevirmek doğru olmaz"
   ]
  },
  {
   "cell_type": "code",
   "execution_count": 42,
   "id": "9c9ae3a0",
   "metadata": {},
   "outputs": [
    {
     "data": {
      "text/plain": [
       "Home Mortgage    124477\n",
       "Rent             109010\n",
       "Own Home          22923\n",
       "HaveMortgage        574\n",
       "Name: Home Ownership, dtype: int64"
      ]
     },
     "execution_count": 42,
     "metadata": {},
     "output_type": "execute_result"
    }
   ],
   "source": [
    "df[\"Home Ownership\"].value_counts()\n"
   ]
  },
  {
   "cell_type": "code",
   "execution_count": 43,
   "id": "406a88f4",
   "metadata": {},
   "outputs": [
    {
     "data": {
      "text/plain": [
       "Debt Consolidation      203911\n",
       "Home Improvements        14915\n",
       "other                    14268\n",
       "Other                     9667\n",
       "Business Loan             4712\n",
       "Buy a Car                 3276\n",
       "Medical Bills             2868\n",
       "Take a Trip               1570\n",
       "Buy House                 1530\n",
       "Educational Expenses       267\n",
       "Name: Purpose, dtype: int64"
      ]
     },
     "execution_count": 43,
     "metadata": {},
     "output_type": "execute_result"
    }
   ],
   "source": [
    "df[\"Purpose\"].value_counts()\n",
    "\n",
    "#iki farklı other var bunları birbirne eklemek lazım"
   ]
  },
  {
   "cell_type": "code",
   "execution_count": 44,
   "id": "5bfa0501",
   "metadata": {},
   "outputs": [],
   "source": [
    "df.loc[df[\"Purpose\"] == \"Other\", \"Purpose\"] = \"other\""
   ]
  },
  {
   "cell_type": "code",
   "execution_count": 45,
   "id": "fc14592d",
   "metadata": {},
   "outputs": [
    {
     "data": {
      "text/plain": [
       "Debt Consolidation      203911\n",
       "other                    23935\n",
       "Home Improvements        14915\n",
       "Business Loan             4712\n",
       "Buy a Car                 3276\n",
       "Medical Bills             2868\n",
       "Take a Trip               1570\n",
       "Buy House                 1530\n",
       "Educational Expenses       267\n",
       "Name: Purpose, dtype: int64"
      ]
     },
     "execution_count": 45,
     "metadata": {},
     "output_type": "execute_result"
    }
   ],
   "source": [
    "df[\"Purpose\"].value_counts()\n"
   ]
  },
  {
   "cell_type": "code",
   "execution_count": 46,
   "id": "53d62e10",
   "metadata": {},
   "outputs": [],
   "source": [
    "#Dolarları temizlememiz gerekir\n",
    "df[\"Monthly Debt\"] = df[\"Monthly Debt\"].str.extract(\"(\\d+)\")"
   ]
  },
  {
   "cell_type": "code",
   "execution_count": 47,
   "id": "e11e0961",
   "metadata": {},
   "outputs": [],
   "source": [
    "df[\"Monthly Debt\"] = df[\"Monthly Debt\"].astype(float)\n",
    "#object veriyi floata dönüştürmüş olduk"
   ]
  },
  {
   "cell_type": "code",
   "execution_count": 48,
   "id": "0b204794",
   "metadata": {},
   "outputs": [
    {
     "name": "stderr",
     "output_type": "stream",
     "text": [
      "c:\\Users\\oztur\\AppData\\Local\\Programs\\Python\\Python37\\lib\\site-packages\\seaborn\\_decorators.py:43: FutureWarning: Pass the following variables as keyword args: x, y. From version 0.12, the only valid positional argument will be `data`, and passing other arguments without an explicit keyword will result in an error or misinterpretation.\n",
      "  FutureWarning\n"
     ]
    },
    {
     "data": {
      "text/plain": [
       "<AxesSubplot:xlabel='Years of Credit History', ylabel='Years of Credit History'>"
      ]
     },
     "execution_count": 48,
     "metadata": {},
     "output_type": "execute_result"
    },
    {
     "data": {
      "image/png": "[encoded data removed]",
      "text/plain": [
       "<Figure size 432x288 with 1 Axes>"
      ]
     },
     "metadata": {
      "needs_background": "light"
     },
     "output_type": "display_data"
    }
   ],
   "source": [
    "sns.scatterplot(df[\"Years of Credit History\"],df[\"Years of Credit History\"].value_counts())"
   ]
  },
  {
   "cell_type": "code",
   "execution_count": 49,
   "id": "da9c869b",
   "metadata": {},
   "outputs": [],
   "source": [
    "#df[\"Maximum Open Credit\"] = df[\"Maximum Open Credit\"].astype(float)"
   ]
  },
  {
   "cell_type": "code",
   "execution_count": 50,
   "id": "ee4aa601",
   "metadata": {},
   "outputs": [
    {
     "data": {
      "text/html": [
       "<div>\n",
       "<style scoped>\n",
       "    .dataframe tbody tr th:only-of-type {\n",
       "        vertical-align: middle;\n",
       "    }\n",
       "\n",
       "    .dataframe tbody tr th {\n",
       "        vertical-align: top;\n",
       "    }\n",
       "\n",
       "    .dataframe thead th {\n",
       "        text-align: right;\n",
       "    }\n",
       "</style>\n",
       "<table border=\"1\" class=\"dataframe\">\n",
       "  <thead>\n",
       "    <tr style=\"text-align: right;\">\n",
       "      <th></th>\n",
       "      <th>Loan Status</th>\n",
       "      <th>Current Loan Amount</th>\n",
       "      <th>Term</th>\n",
       "      <th>Credit Score</th>\n",
       "      <th>Years in current job</th>\n",
       "      <th>Home Ownership</th>\n",
       "      <th>Annual Income</th>\n",
       "      <th>Purpose</th>\n",
       "      <th>Monthly Debt</th>\n",
       "      <th>Years of Credit History</th>\n",
       "      <th>Number of Credit Problems</th>\n",
       "      <th>Current Credit Balance</th>\n",
       "      <th>Maximum Open Credit</th>\n",
       "      <th>Bankruptcies</th>\n",
       "      <th>Tax Liens</th>\n",
       "    </tr>\n",
       "  </thead>\n",
       "  <tbody>\n",
       "    <tr>\n",
       "      <th>184662</th>\n",
       "      <td>Charged Off</td>\n",
       "      <td>1470</td>\n",
       "      <td>Short Term</td>\n",
       "      <td>721.203197</td>\n",
       "      <td>2 years</td>\n",
       "      <td>Rent</td>\n",
       "      <td>71952.716187</td>\n",
       "      <td>Debt Consolidation</td>\n",
       "      <td>506.0</td>\n",
       "      <td>15.3</td>\n",
       "      <td>0</td>\n",
       "      <td>0</td>\n",
       "      <td>#VALUE!</td>\n",
       "      <td>0.0</td>\n",
       "      <td>0.0</td>\n",
       "    </tr>\n",
       "    <tr>\n",
       "      <th>184663</th>\n",
       "      <td>Charged Off</td>\n",
       "      <td>1470</td>\n",
       "      <td>Short Term</td>\n",
       "      <td>725.000000</td>\n",
       "      <td>2 years</td>\n",
       "      <td>Rent</td>\n",
       "      <td>39200.000000</td>\n",
       "      <td>Debt Consolidation</td>\n",
       "      <td>506.0</td>\n",
       "      <td>15.3</td>\n",
       "      <td>0</td>\n",
       "      <td>0</td>\n",
       "      <td>#VALUE!</td>\n",
       "      <td>0.0</td>\n",
       "      <td>0.0</td>\n",
       "    </tr>\n",
       "    <tr>\n",
       "      <th>187512</th>\n",
       "      <td>Charged Off</td>\n",
       "      <td>23897</td>\n",
       "      <td>Long Term</td>\n",
       "      <td>697.000000</td>\n",
       "      <td>7 years</td>\n",
       "      <td>Home Mortgage</td>\n",
       "      <td>49785.000000</td>\n",
       "      <td>Home Improvements</td>\n",
       "      <td>1.0</td>\n",
       "      <td>13.0</td>\n",
       "      <td>0</td>\n",
       "      <td>0</td>\n",
       "      <td>#VALUE!</td>\n",
       "      <td>0.0</td>\n",
       "      <td>0.0</td>\n",
       "    </tr>\n",
       "    <tr>\n",
       "      <th>187513</th>\n",
       "      <td>Charged Off</td>\n",
       "      <td>23897</td>\n",
       "      <td>Long Term</td>\n",
       "      <td>697.000000</td>\n",
       "      <td>7 years</td>\n",
       "      <td>Home Mortgage</td>\n",
       "      <td>49785.000000</td>\n",
       "      <td>Home Improvements</td>\n",
       "      <td>1.0</td>\n",
       "      <td>13.0</td>\n",
       "      <td>0</td>\n",
       "      <td>0</td>\n",
       "      <td>#VALUE!</td>\n",
       "      <td>0.0</td>\n",
       "      <td>0.0</td>\n",
       "    </tr>\n",
       "  </tbody>\n",
       "</table>\n",
       "</div>"
      ],
      "text/plain": [
       "        Loan Status  Current Loan Amount        Term  Credit Score  \\\n",
       "184662  Charged Off                 1470  Short Term    721.203197   \n",
       "184663  Charged Off                 1470  Short Term    725.000000   \n",
       "187512  Charged Off                23897   Long Term    697.000000   \n",
       "187513  Charged Off                23897   Long Term    697.000000   \n",
       "\n",
       "       Years in current job Home Ownership  Annual Income             Purpose  \\\n",
       "184662              2 years           Rent   71952.716187  Debt Consolidation   \n",
       "184663              2 years           Rent   39200.000000  Debt Consolidation   \n",
       "187512              7 years  Home Mortgage   49785.000000   Home Improvements   \n",
       "187513              7 years  Home Mortgage   49785.000000   Home Improvements   \n",
       "\n",
       "        Monthly Debt  Years of Credit History  Number of Credit Problems  \\\n",
       "184662         506.0                     15.3                          0   \n",
       "184663         506.0                     15.3                          0   \n",
       "187512           1.0                     13.0                          0   \n",
       "187513           1.0                     13.0                          0   \n",
       "\n",
       "        Current Credit Balance Maximum Open Credit Bankruptcies Tax Liens  \n",
       "184662                       0             #VALUE!          0.0       0.0  \n",
       "184663                       0             #VALUE!          0.0       0.0  \n",
       "187512                       0             #VALUE!          0.0       0.0  \n",
       "187513                       0             #VALUE!          0.0       0.0  "
      ]
     },
     "execution_count": 50,
     "metadata": {},
     "output_type": "execute_result"
    }
   ],
   "source": [
    "# #VALUE! diğe bir değer yüzünden floata çeviremedik\n",
    "df[df[\"Maximum Open Credit\"]==\"#VALUE!\"]\n",
    "\n",
    "#df[\"Maximum Open Credit\"].replace(\"#VALUE!\",np.nan,inplace=True)\n",
    "#bu kod da tek satır ile"
   ]
  },
  {
   "cell_type": "code",
   "execution_count": 52,
   "id": "d04830ac",
   "metadata": {},
   "outputs": [],
   "source": [
    "df.loc[df[\"Maximum Open Credit\"]==\"#VALUE!\" , \"Maximum Open Credit\"] = 35273\n",
    "#ortalama ile doldurmuş olduk"
   ]
  },
  {
   "cell_type": "code",
   "execution_count": 53,
   "id": "2136d8da",
   "metadata": {},
   "outputs": [],
   "source": [
    "df[\"Maximum Open Credit\"] = df[\"Maximum Open Credit\"].astype(float)"
   ]
  },
  {
   "cell_type": "code",
   "execution_count": 54,
   "id": "f6e207c7",
   "metadata": {},
   "outputs": [
    {
     "data": {
      "text/plain": [
       "0.0    229661\n",
       "1.0     25605\n",
       "2.0       957\n",
       "0         529\n",
       "3.0       180\n",
       "4.0        33\n",
       "5.0        15\n",
       "6.0         3\n",
       "7.0         1\n",
       "Name: Bankruptcies, dtype: int64"
      ]
     },
     "execution_count": 54,
     "metadata": {},
     "output_type": "execute_result"
    }
   ],
   "source": [
    "df[\"Bankruptcies\"].value_counts()"
   ]
  },
  {
   "cell_type": "code",
   "execution_count": 55,
   "id": "f2e2275b",
   "metadata": {},
   "outputs": [],
   "source": [
    "df[\"Bankruptcies\"] = df[\"Bankruptcies\"].astype(float)"
   ]
  },
  {
   "cell_type": "code",
   "execution_count": 56,
   "id": "966a93d2",
   "metadata": {},
   "outputs": [
    {
     "data": {
      "text/plain": [
       "0.0     252322\n",
       "1.0       3276\n",
       "2.0        872\n",
       "3.0        247\n",
       "4.0        124\n",
       "5.0         61\n",
       "6.0         30\n",
       "0           23\n",
       "9.0         10\n",
       "8.0          8\n",
       "7.0          6\n",
       "10.0         3\n",
       "11.0         2\n",
       "Name: Tax Liens, dtype: int64"
      ]
     },
     "execution_count": 56,
     "metadata": {},
     "output_type": "execute_result"
    }
   ],
   "source": [
    "df[\"Tax Liens\"].value_counts()\n",
    "#iki ayrı sıfırın olması floata çevrilmesiyle beraber düzelir"
   ]
  },
  {
   "cell_type": "code",
   "execution_count": 57,
   "id": "14fc06f1",
   "metadata": {},
   "outputs": [],
   "source": [
    "df[\"Tax Liens\"] = df[\"Tax Liens\"].astype(float)"
   ]
  },
  {
   "cell_type": "code",
   "execution_count": 58,
   "id": "2b26b1fb",
   "metadata": {},
   "outputs": [
    {
     "name": "stdout",
     "output_type": "stream",
     "text": [
      "<class 'pandas.core.frame.DataFrame'>\n",
      "RangeIndex: 256984 entries, 0 to 256983\n",
      "Data columns (total 15 columns):\n",
      " #   Column                     Non-Null Count   Dtype  \n",
      "---  ------                     --------------   -----  \n",
      " 0   Loan Status                256984 non-null  object \n",
      " 1   Current Loan Amount        256984 non-null  int64  \n",
      " 2   Term                       256984 non-null  object \n",
      " 3   Credit Score               256984 non-null  float64\n",
      " 4   Years in current job       256984 non-null  object \n",
      " 5   Home Ownership             256984 non-null  object \n",
      " 6   Annual Income              256984 non-null  float64\n",
      " 7   Purpose                    256984 non-null  object \n",
      " 8   Monthly Debt               256984 non-null  float64\n",
      " 9   Years of Credit History    256984 non-null  float64\n",
      " 10  Number of Credit Problems  256984 non-null  int64  \n",
      " 11  Current Credit Balance     256984 non-null  int64  \n",
      " 12  Maximum Open Credit        256984 non-null  float64\n",
      " 13  Bankruptcies               256984 non-null  float64\n",
      " 14  Tax Liens                  256984 non-null  float64\n",
      "dtypes: float64(7), int64(3), object(5)\n",
      "memory usage: 29.4+ MB\n"
     ]
    }
   ],
   "source": [
    "df.info()"
   ]
  },
  {
   "cell_type": "code",
   "execution_count": 59,
   "id": "e028c4db",
   "metadata": {},
   "outputs": [],
   "source": [
    "y = df[\"Loan Status\"]\n",
    "df.drop([\"Loan Status\"], axis = 1 , inplace= True)"
   ]
  },
  {
   "cell_type": "markdown",
   "id": "a49f788b",
   "metadata": {},
   "source": [
    "__Dummy Variable__"
   ]
  },
  {
   "cell_type": "code",
   "execution_count": 60,
   "id": "f42d6cef",
   "metadata": {},
   "outputs": [],
   "source": [
    "df_dum = pd.get_dummies(df , drop_first = True)"
   ]
  },
  {
   "cell_type": "code",
   "execution_count": 61,
   "id": "6fe6eb99",
   "metadata": {},
   "outputs": [
    {
     "data": {
      "text/plain": [
       "(256984, 32)"
      ]
     },
     "execution_count": 61,
     "metadata": {},
     "output_type": "execute_result"
    }
   ],
   "source": [
    "df_dum.shape"
   ]
  },
  {
   "cell_type": "code",
   "execution_count": 62,
   "id": "59ec4bf4",
   "metadata": {},
   "outputs": [],
   "source": [
    "df_joined = result = pd.concat([df_dum, y], axis=1, join='inner')\n"
   ]
  },
  {
   "cell_type": "code",
   "execution_count": 63,
   "id": "00fe4ddc",
   "metadata": {},
   "outputs": [
    {
     "name": "stdout",
     "output_type": "stream",
     "text": [
      "<class 'pandas.core.frame.DataFrame'>\n",
      "RangeIndex: 256984 entries, 0 to 256983\n",
      "Data columns (total 33 columns):\n",
      " #   Column                          Non-Null Count   Dtype  \n",
      "---  ------                          --------------   -----  \n",
      " 0   Current Loan Amount             256984 non-null  int64  \n",
      " 1   Credit Score                    256984 non-null  float64\n",
      " 2   Annual Income                   256984 non-null  float64\n",
      " 3   Monthly Debt                    256984 non-null  float64\n",
      " 4   Years of Credit History         256984 non-null  float64\n",
      " 5   Number of Credit Problems       256984 non-null  int64  \n",
      " 6   Current Credit Balance          256984 non-null  int64  \n",
      " 7   Maximum Open Credit             256984 non-null  float64\n",
      " 8   Bankruptcies                    256984 non-null  float64\n",
      " 9   Tax Liens                       256984 non-null  float64\n",
      " 10  Term_Short Term                 256984 non-null  uint8  \n",
      " 11  Years in current job_10+ years  256984 non-null  uint8  \n",
      " 12  Years in current job_2 years    256984 non-null  uint8  \n",
      " 13  Years in current job_3 years    256984 non-null  uint8  \n",
      " 14  Years in current job_4 years    256984 non-null  uint8  \n",
      " 15  Years in current job_5 years    256984 non-null  uint8  \n",
      " 16  Years in current job_6 years    256984 non-null  uint8  \n",
      " 17  Years in current job_7 years    256984 non-null  uint8  \n",
      " 18  Years in current job_8 years    256984 non-null  uint8  \n",
      " 19  Years in current job_9 years    256984 non-null  uint8  \n",
      " 20  Years in current job_< 1 year   256984 non-null  uint8  \n",
      " 21  Home Ownership_Home Mortgage    256984 non-null  uint8  \n",
      " 22  Home Ownership_Own Home         256984 non-null  uint8  \n",
      " 23  Home Ownership_Rent             256984 non-null  uint8  \n",
      " 24  Purpose_Buy House               256984 non-null  uint8  \n",
      " 25  Purpose_Buy a Car               256984 non-null  uint8  \n",
      " 26  Purpose_Debt Consolidation      256984 non-null  uint8  \n",
      " 27  Purpose_Educational Expenses    256984 non-null  uint8  \n",
      " 28  Purpose_Home Improvements       256984 non-null  uint8  \n",
      " 29  Purpose_Medical Bills           256984 non-null  uint8  \n",
      " 30  Purpose_Take a Trip             256984 non-null  uint8  \n",
      " 31  Purpose_other                   256984 non-null  uint8  \n",
      " 32  Loan Status                     256984 non-null  object \n",
      "dtypes: float64(7), int64(3), object(1), uint8(22)\n",
      "memory usage: 27.0+ MB\n"
     ]
    }
   ],
   "source": [
    "df_joined.info(verbose=True)"
   ]
  },
  {
   "cell_type": "code",
   "execution_count": null,
   "id": "0a3dc7ed",
   "metadata": {},
   "outputs": [],
   "source": []
  },
  {
   "cell_type": "code",
   "execution_count": 64,
   "id": "99efc668",
   "metadata": {},
   "outputs": [
    {
     "data": {
      "text/html": [
       "<style type=\"text/css\">\n",
       "#T_de594_ th {\n",
       "  text-align: left;\n",
       "}\n",
       "#T_de594_row0_col0, #T_de594_row0_col3, #T_de594_row0_col4, #T_de594_row1_col0, #T_de594_row1_col1, #T_de594_row1_col2, #T_de594_row1_col3, #T_de594_row1_col4, #T_de594_row1_col5, #T_de594_row1_col6, #T_de594_row1_col7, #T_de594_row2_col0, #T_de594_row2_col1, #T_de594_row2_col2, #T_de594_row2_col3, #T_de594_row2_col4, #T_de594_row2_col5, #T_de594_row2_col6, #T_de594_row2_col7, #T_de594_row3_col0, #T_de594_row3_col1, #T_de594_row3_col2, #T_de594_row3_col3, #T_de594_row3_col4, #T_de594_row3_col5, #T_de594_row3_col6, #T_de594_row3_col7, #T_de594_row4_col0, #T_de594_row4_col1, #T_de594_row4_col2, #T_de594_row4_col3, #T_de594_row4_col4, #T_de594_row4_col5, #T_de594_row4_col6, #T_de594_row4_col7, #T_de594_row5_col0, #T_de594_row5_col1, #T_de594_row5_col2, #T_de594_row5_col3, #T_de594_row5_col4, #T_de594_row5_col5, #T_de594_row5_col6, #T_de594_row5_col7, #T_de594_row6_col0, #T_de594_row6_col1, #T_de594_row6_col2, #T_de594_row6_col3, #T_de594_row6_col4, #T_de594_row6_col5, #T_de594_row6_col6, #T_de594_row6_col7, #T_de594_row7_col0, #T_de594_row7_col1, #T_de594_row7_col2, #T_de594_row7_col3, #T_de594_row7_col4, #T_de594_row7_col5, #T_de594_row7_col6, #T_de594_row7_col7, #T_de594_row8_col0, #T_de594_row8_col1, #T_de594_row8_col2, #T_de594_row8_col4, #T_de594_row8_col5, #T_de594_row8_col6, #T_de594_row8_col7, #T_de594_row9_col0, #T_de594_row9_col1, #T_de594_row9_col2, #T_de594_row9_col3, #T_de594_row9_col4, #T_de594_row9_col5, #T_de594_row9_col6, #T_de594_row9_col7, #T_de594_row10_col0, #T_de594_row10_col1, #T_de594_row10_col2, #T_de594_row10_col3, #T_de594_row10_col4, #T_de594_row10_col5, #T_de594_row10_col6, #T_de594_row10_col7, #T_de594_row11_col0, #T_de594_row11_col1, #T_de594_row11_col2, #T_de594_row11_col3, #T_de594_row11_col4, #T_de594_row11_col5, #T_de594_row11_col6, #T_de594_row11_col7, #T_de594_row12_col0, #T_de594_row12_col1, #T_de594_row12_col2, #T_de594_row12_col3, #T_de594_row12_col5, #T_de594_row12_col6, #T_de594_row12_col7, #T_de594_row13_col0, #T_de594_row13_col1, #T_de594_row13_col2, #T_de594_row13_col3, #T_de594_row13_col4, #T_de594_row13_col5, #T_de594_row13_col6, #T_de594_row13_col7 {\n",
       "  text-align: left;\n",
       "}\n",
       "#T_de594_row0_col1, #T_de594_row0_col2, #T_de594_row0_col5, #T_de594_row0_col6, #T_de594_row0_col7, #T_de594_row8_col3, #T_de594_row12_col4 {\n",
       "  text-align: left;\n",
       "  background-color: yellow;\n",
       "}\n",
       "#T_de594_row0_col8, #T_de594_row1_col8, #T_de594_row2_col8, #T_de594_row3_col8, #T_de594_row4_col8, #T_de594_row5_col8, #T_de594_row6_col8, #T_de594_row7_col8, #T_de594_row9_col8, #T_de594_row10_col8, #T_de594_row11_col8, #T_de594_row12_col8, #T_de594_row13_col8 {\n",
       "  text-align: left;\n",
       "  background-color: lightgrey;\n",
       "}\n",
       "#T_de594_row8_col8 {\n",
       "  text-align: left;\n",
       "  background-color: yellow;\n",
       "  background-color: lightgrey;\n",
       "}\n",
       "</style>\n",
       "<table id=\"T_de594_\">\n",
       "  <thead>\n",
       "    <tr>\n",
       "      <th class=\"blank level0\" >&nbsp;</th>\n",
       "      <th class=\"col_heading level0 col0\" >Model</th>\n",
       "      <th class=\"col_heading level0 col1\" >Accuracy</th>\n",
       "      <th class=\"col_heading level0 col2\" >AUC</th>\n",
       "      <th class=\"col_heading level0 col3\" >Recall</th>\n",
       "      <th class=\"col_heading level0 col4\" >Prec.</th>\n",
       "      <th class=\"col_heading level0 col5\" >F1</th>\n",
       "      <th class=\"col_heading level0 col6\" >Kappa</th>\n",
       "      <th class=\"col_heading level0 col7\" >MCC</th>\n",
       "      <th class=\"col_heading level0 col8\" >TT (Sec)</th>\n",
       "    </tr>\n",
       "  </thead>\n",
       "  <tbody>\n",
       "    <tr>\n",
       "      <th id=\"T_de594_level0_row0\" class=\"row_heading level0 row0\" >et</th>\n",
       "      <td id=\"T_de594_row0_col0\" class=\"data row0 col0\" >Extra Trees Classifier</td>\n",
       "      <td id=\"T_de594_row0_col1\" class=\"data row0 col1\" >0.8152</td>\n",
       "      <td id=\"T_de594_row0_col2\" class=\"data row0 col2\" >0.8582</td>\n",
       "      <td id=\"T_de594_row0_col3\" class=\"data row0 col3\" >0.9181</td>\n",
       "      <td id=\"T_de594_row0_col4\" class=\"data row0 col4\" >0.8300</td>\n",
       "      <td id=\"T_de594_row0_col5\" class=\"data row0 col5\" >0.8718</td>\n",
       "      <td id=\"T_de594_row0_col6\" class=\"data row0 col6\" >0.5439</td>\n",
       "      <td id=\"T_de594_row0_col7\" class=\"data row0 col7\" >0.5528</td>\n",
       "      <td id=\"T_de594_row0_col8\" class=\"data row0 col8\" >9.1620</td>\n",
       "    </tr>\n",
       "    <tr>\n",
       "      <th id=\"T_de594_level0_row1\" class=\"row_heading level0 row1\" >rf</th>\n",
       "      <td id=\"T_de594_row1_col0\" class=\"data row1 col0\" >Random Forest Classifier</td>\n",
       "      <td id=\"T_de594_row1_col1\" class=\"data row1 col1\" >0.8063</td>\n",
       "      <td id=\"T_de594_row1_col2\" class=\"data row1 col2\" >0.8517</td>\n",
       "      <td id=\"T_de594_row1_col3\" class=\"data row1 col3\" >0.9094</td>\n",
       "      <td id=\"T_de594_row1_col4\" class=\"data row1 col4\" >0.8254</td>\n",
       "      <td id=\"T_de594_row1_col5\" class=\"data row1 col5\" >0.8653</td>\n",
       "      <td id=\"T_de594_row1_col6\" class=\"data row1 col6\" >0.5230</td>\n",
       "      <td id=\"T_de594_row1_col7\" class=\"data row1 col7\" >0.5309</td>\n",
       "      <td id=\"T_de594_row1_col8\" class=\"data row1 col8\" >8.5320</td>\n",
       "    </tr>\n",
       "    <tr>\n",
       "      <th id=\"T_de594_level0_row2\" class=\"row_heading level0 row2\" >dt</th>\n",
       "      <td id=\"T_de594_row2_col0\" class=\"data row2 col0\" >Decision Tree Classifier</td>\n",
       "      <td id=\"T_de594_row2_col1\" class=\"data row2 col1\" >0.7271</td>\n",
       "      <td id=\"T_de594_row2_col2\" class=\"data row2 col2\" >0.7046</td>\n",
       "      <td id=\"T_de594_row2_col3\" class=\"data row2 col3\" >0.7657</td>\n",
       "      <td id=\"T_de594_row2_col4\" class=\"data row2 col4\" >0.8233</td>\n",
       "      <td id=\"T_de594_row2_col5\" class=\"data row2 col5\" >0.7935</td>\n",
       "      <td id=\"T_de594_row2_col6\" class=\"data row2 col6\" >0.3931</td>\n",
       "      <td id=\"T_de594_row2_col7\" class=\"data row2 col7\" >0.3953</td>\n",
       "      <td id=\"T_de594_row2_col8\" class=\"data row2 col8\" >0.8930</td>\n",
       "    </tr>\n",
       "    <tr>\n",
       "      <th id=\"T_de594_level0_row3\" class=\"row_heading level0 row3\" >lightgbm</th>\n",
       "      <td id=\"T_de594_row3_col0\" class=\"data row3 col0\" >Light Gradient Boosting Machine</td>\n",
       "      <td id=\"T_de594_row3_col1\" class=\"data row3 col1\" >0.7251</td>\n",
       "      <td id=\"T_de594_row3_col2\" class=\"data row3 col2\" >0.7623</td>\n",
       "      <td id=\"T_de594_row3_col3\" class=\"data row3 col3\" >0.8875</td>\n",
       "      <td id=\"T_de594_row3_col4\" class=\"data row3 col4\" >0.7543</td>\n",
       "      <td id=\"T_de594_row3_col5\" class=\"data row3 col5\" >0.8155</td>\n",
       "      <td id=\"T_de594_row3_col6\" class=\"data row3 col6\" >0.2901</td>\n",
       "      <td id=\"T_de594_row3_col7\" class=\"data row3 col7\" >0.3054</td>\n",
       "      <td id=\"T_de594_row3_col8\" class=\"data row3 col8\" >0.6270</td>\n",
       "    </tr>\n",
       "    <tr>\n",
       "      <th id=\"T_de594_level0_row4\" class=\"row_heading level0 row4\" >gbc</th>\n",
       "      <td id=\"T_de594_row4_col0\" class=\"data row4 col0\" >Gradient Boosting Classifier</td>\n",
       "      <td id=\"T_de594_row4_col1\" class=\"data row4 col1\" >0.7193</td>\n",
       "      <td id=\"T_de594_row4_col2\" class=\"data row4 col2\" >0.7538</td>\n",
       "      <td id=\"T_de594_row4_col3\" class=\"data row4 col3\" >0.9003</td>\n",
       "      <td id=\"T_de594_row4_col4\" class=\"data row4 col4\" >0.7437</td>\n",
       "      <td id=\"T_de594_row4_col5\" class=\"data row4 col5\" >0.8145</td>\n",
       "      <td id=\"T_de594_row4_col6\" class=\"data row4 col6\" >0.2588</td>\n",
       "      <td id=\"T_de594_row4_col7\" class=\"data row4 col7\" >0.2799</td>\n",
       "      <td id=\"T_de594_row4_col8\" class=\"data row4 col8\" >12.9460</td>\n",
       "    </tr>\n",
       "    <tr>\n",
       "      <th id=\"T_de594_level0_row5\" class=\"row_heading level0 row5\" >ada</th>\n",
       "      <td id=\"T_de594_row5_col0\" class=\"data row5 col0\" >Ada Boost Classifier</td>\n",
       "      <td id=\"T_de594_row5_col1\" class=\"data row5 col1\" >0.7157</td>\n",
       "      <td id=\"T_de594_row5_col2\" class=\"data row5 col2\" >0.7486</td>\n",
       "      <td id=\"T_de594_row5_col3\" class=\"data row5 col3\" >0.8964</td>\n",
       "      <td id=\"T_de594_row5_col4\" class=\"data row5 col4\" >0.7420</td>\n",
       "      <td id=\"T_de594_row5_col5\" class=\"data row5 col5\" >0.8119</td>\n",
       "      <td id=\"T_de594_row5_col6\" class=\"data row5 col6\" >0.2506</td>\n",
       "      <td id=\"T_de594_row5_col7\" class=\"data row5 col7\" >0.2704</td>\n",
       "      <td id=\"T_de594_row5_col8\" class=\"data row5 col8\" >2.6500</td>\n",
       "    </tr>\n",
       "    <tr>\n",
       "      <th id=\"T_de594_level0_row6\" class=\"row_heading level0 row6\" >lda</th>\n",
       "      <td id=\"T_de594_row6_col0\" class=\"data row6 col0\" >Linear Discriminant Analysis</td>\n",
       "      <td id=\"T_de594_row6_col1\" class=\"data row6 col1\" >0.7113</td>\n",
       "      <td id=\"T_de594_row6_col2\" class=\"data row6 col2\" >0.7308</td>\n",
       "      <td id=\"T_de594_row6_col3\" class=\"data row6 col3\" >0.9332</td>\n",
       "      <td id=\"T_de594_row6_col4\" class=\"data row6 col4\" >0.7245</td>\n",
       "      <td id=\"T_de594_row6_col5\" class=\"data row6 col5\" >0.8157</td>\n",
       "      <td id=\"T_de594_row6_col6\" class=\"data row6 col6\" >0.1960</td>\n",
       "      <td id=\"T_de594_row6_col7\" class=\"data row6 col7\" >0.2346</td>\n",
       "      <td id=\"T_de594_row6_col8\" class=\"data row6 col8\" >0.7770</td>\n",
       "    </tr>\n",
       "    <tr>\n",
       "      <th id=\"T_de594_level0_row7\" class=\"row_heading level0 row7\" >ridge</th>\n",
       "      <td id=\"T_de594_row7_col0\" class=\"data row7 col0\" >Ridge Classifier</td>\n",
       "      <td id=\"T_de594_row7_col1\" class=\"data row7 col1\" >0.7098</td>\n",
       "      <td id=\"T_de594_row7_col2\" class=\"data row7 col2\" >0.0000</td>\n",
       "      <td id=\"T_de594_row7_col3\" class=\"data row7 col3\" >0.9462</td>\n",
       "      <td id=\"T_de594_row7_col4\" class=\"data row7 col4\" >0.7188</td>\n",
       "      <td id=\"T_de594_row7_col5\" class=\"data row7 col5\" >0.8170</td>\n",
       "      <td id=\"T_de594_row7_col6\" class=\"data row7 col6\" >0.1756</td>\n",
       "      <td id=\"T_de594_row7_col7\" class=\"data row7 col7\" >0.2227</td>\n",
       "      <td id=\"T_de594_row7_col8\" class=\"data row7 col8\" >0.0970</td>\n",
       "    </tr>\n",
       "    <tr>\n",
       "      <th id=\"T_de594_level0_row8\" class=\"row_heading level0 row8\" >dummy</th>\n",
       "      <td id=\"T_de594_row8_col0\" class=\"data row8 col0\" >Dummy Classifier</td>\n",
       "      <td id=\"T_de594_row8_col1\" class=\"data row8 col1\" >0.6845</td>\n",
       "      <td id=\"T_de594_row8_col2\" class=\"data row8 col2\" >0.5000</td>\n",
       "      <td id=\"T_de594_row8_col3\" class=\"data row8 col3\" >1.0000</td>\n",
       "      <td id=\"T_de594_row8_col4\" class=\"data row8 col4\" >0.6845</td>\n",
       "      <td id=\"T_de594_row8_col5\" class=\"data row8 col5\" >0.8127</td>\n",
       "      <td id=\"T_de594_row8_col6\" class=\"data row8 col6\" >0.0000</td>\n",
       "      <td id=\"T_de594_row8_col7\" class=\"data row8 col7\" >0.0000</td>\n",
       "      <td id=\"T_de594_row8_col8\" class=\"data row8 col8\" >0.0640</td>\n",
       "    </tr>\n",
       "    <tr>\n",
       "      <th id=\"T_de594_level0_row9\" class=\"row_heading level0 row9\" >lr</th>\n",
       "      <td id=\"T_de594_row9_col0\" class=\"data row9 col0\" >Logistic Regression</td>\n",
       "      <td id=\"T_de594_row9_col1\" class=\"data row9 col1\" >0.6844</td>\n",
       "      <td id=\"T_de594_row9_col2\" class=\"data row9 col2\" >0.6632</td>\n",
       "      <td id=\"T_de594_row9_col3\" class=\"data row9 col3\" >0.9997</td>\n",
       "      <td id=\"T_de594_row9_col4\" class=\"data row9 col4\" >0.6845</td>\n",
       "      <td id=\"T_de594_row9_col5\" class=\"data row9 col5\" >0.8126</td>\n",
       "      <td id=\"T_de594_row9_col6\" class=\"data row9 col6\" >-0.0001</td>\n",
       "      <td id=\"T_de594_row9_col7\" class=\"data row9 col7\" >-0.0020</td>\n",
       "      <td id=\"T_de594_row9_col8\" class=\"data row9 col8\" >1.6510</td>\n",
       "    </tr>\n",
       "    <tr>\n",
       "      <th id=\"T_de594_level0_row10\" class=\"row_heading level0 row10\" >knn</th>\n",
       "      <td id=\"T_de594_row10_col0\" class=\"data row10 col0\" >K Neighbors Classifier</td>\n",
       "      <td id=\"T_de594_row10_col1\" class=\"data row10 col1\" >0.6706</td>\n",
       "      <td id=\"T_de594_row10_col2\" class=\"data row10 col2\" >0.6802</td>\n",
       "      <td id=\"T_de594_row10_col3\" class=\"data row10 col3\" >0.7969</td>\n",
       "      <td id=\"T_de594_row10_col4\" class=\"data row10 col4\" >0.7413</td>\n",
       "      <td id=\"T_de594_row10_col5\" class=\"data row10 col5\" >0.7681</td>\n",
       "      <td id=\"T_de594_row10_col6\" class=\"data row10 col6\" >0.2022</td>\n",
       "      <td id=\"T_de594_row10_col7\" class=\"data row10 col7\" >0.2038</td>\n",
       "      <td id=\"T_de594_row10_col8\" class=\"data row10 col8\" >1.7570</td>\n",
       "    </tr>\n",
       "    <tr>\n",
       "      <th id=\"T_de594_level0_row11\" class=\"row_heading level0 row11\" >svm</th>\n",
       "      <td id=\"T_de594_row11_col0\" class=\"data row11 col0\" >SVM - Linear Kernel</td>\n",
       "      <td id=\"T_de594_row11_col1\" class=\"data row11 col1\" >0.5958</td>\n",
       "      <td id=\"T_de594_row11_col2\" class=\"data row11 col2\" >0.0000</td>\n",
       "      <td id=\"T_de594_row11_col3\" class=\"data row11 col3\" >0.7238</td>\n",
       "      <td id=\"T_de594_row11_col4\" class=\"data row11 col4\" >0.7026</td>\n",
       "      <td id=\"T_de594_row11_col5\" class=\"data row11 col5\" >0.7061</td>\n",
       "      <td id=\"T_de594_row11_col6\" class=\"data row11 col6\" >0.0386</td>\n",
       "      <td id=\"T_de594_row11_col7\" class=\"data row11 col7\" >0.0423</td>\n",
       "      <td id=\"T_de594_row11_col8\" class=\"data row11 col8\" >0.6790</td>\n",
       "    </tr>\n",
       "    <tr>\n",
       "      <th id=\"T_de594_level0_row12\" class=\"row_heading level0 row12\" >nb</th>\n",
       "      <td id=\"T_de594_row12_col0\" class=\"data row12 col0\" >Naive Bayes</td>\n",
       "      <td id=\"T_de594_row12_col1\" class=\"data row12 col1\" >0.4531</td>\n",
       "      <td id=\"T_de594_row12_col2\" class=\"data row12 col2\" >0.6190</td>\n",
       "      <td id=\"T_de594_row12_col3\" class=\"data row12 col3\" >0.2016</td>\n",
       "      <td id=\"T_de594_row12_col4\" class=\"data row12 col4\" >0.9970</td>\n",
       "      <td id=\"T_de594_row12_col5\" class=\"data row12 col5\" >0.3354</td>\n",
       "      <td id=\"T_de594_row12_col6\" class=\"data row12 col6\" >0.1366</td>\n",
       "      <td id=\"T_de594_row12_col7\" class=\"data row12 col7\" >0.2695</td>\n",
       "      <td id=\"T_de594_row12_col8\" class=\"data row12 col8\" >0.1250</td>\n",
       "    </tr>\n",
       "    <tr>\n",
       "      <th id=\"T_de594_level0_row13\" class=\"row_heading level0 row13\" >qda</th>\n",
       "      <td id=\"T_de594_row13_col0\" class=\"data row13 col0\" >Quadratic Discriminant Analysis</td>\n",
       "      <td id=\"T_de594_row13_col1\" class=\"data row13 col1\" >0.4527</td>\n",
       "      <td id=\"T_de594_row13_col2\" class=\"data row13 col2\" >0.6883</td>\n",
       "      <td id=\"T_de594_row13_col3\" class=\"data row13 col3\" >0.2014</td>\n",
       "      <td id=\"T_de594_row13_col4\" class=\"data row13 col4\" >0.9954</td>\n",
       "      <td id=\"T_de594_row13_col5\" class=\"data row13 col5\" >0.3350</td>\n",
       "      <td id=\"T_de594_row13_col6\" class=\"data row13 col6\" >0.1360</td>\n",
       "      <td id=\"T_de594_row13_col7\" class=\"data row13 col7\" >0.2682</td>\n",
       "      <td id=\"T_de594_row13_col8\" class=\"data row13 col8\" >0.5360</td>\n",
       "    </tr>\n",
       "  </tbody>\n",
       "</table>\n"
      ],
      "text/plain": [
       "<pandas.io.formats.style.Styler at 0x19286748dc8>"
      ]
     },
     "metadata": {},
     "output_type": "display_data"
    }
   ],
   "source": [
    "from pycaret.classification import *\n",
    "\n",
    "exp_name = setup(data = df_joined , target = \"Loan Status\")\n",
    "\n",
    "best_model = compare_models()"
   ]
  },
  {
   "cell_type": "markdown",
   "id": "94bd8943",
   "metadata": {},
   "source": [
    "Extra tree classsifier veya random forest classifier bize istedğimiz başarıyı verir."
   ]
  },
  {
   "cell_type": "code",
   "execution_count": null,
   "id": "fb98ef16",
   "metadata": {},
   "outputs": [],
   "source": []
  }
 ],
 "metadata": {
  "kernelspec": {
   "display_name": "Python 3.7.9 64-bit",
   "language": "python",
   "name": "python3"
  },
  "language_info": {
   "codemirror_mode": {
    "name": "ipython",
    "version": 3
   },
   "file_extension": ".py",
   "mimetype": "text/x-python",
   "name": "python",
   "nbconvert_exporter": "python",
   "pygments_lexer": "ipython3",
   "version": "3.7.9 (tags/v3.7.9:13c94747c7, Aug 17 2020, 18:58:18) [MSC v.1900 64 bit (AMD64)]"
  },
  "vscode": {
   "interpreter": {
    "hash": "16f3484daa4199d826ac59be93380ed5ae89d2875afe8f45f4b2e96f2f02b6fc"
   }
  }
 },
 "nbformat": 4,
 "nbformat_minor": 5
}
